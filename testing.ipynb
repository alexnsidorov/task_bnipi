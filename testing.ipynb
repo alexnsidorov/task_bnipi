{
 "cells": [
  {
   "cell_type": "code",
   "execution_count": null,
   "metadata": {},
   "outputs": [],
   "source": [
    "import numpy as np\n",
    "import h5py\n",
    "\n",
    "arr = np.random.randn(1000)\n",
    "\n",
    "with h5py.File('groups.hdf5', 'w') as f:\n",
    "    g = f.create_group('Base_Group')\n",
    "    gg = g.create_group('Sub_Group')\n",
    "\n",
    "    d = g.create_dataset('default', data=arr)\n",
    "    dd = gg.create_dataset('default', data=arr)\n",
    "\n"
   ]
  },
  {
   "cell_type": "code",
   "execution_count": null,
   "metadata": {},
   "outputs": [],
   "source": [
    "import numpy as np\n",
    "\n",
    "data = np.array([[1, 1, 1], [1, 1, 1], [1, 2, 2]])\n",
    "# to_columns = np.zeros((data.shape[1], 2)) \n",
    "# data = np.append(data, to_columns, axis=1)\n",
    "\n",
    "print(data)\n",
    "print(data[1:, -2])"
   ]
  },
  {
   "cell_type": "code",
   "execution_count": null,
   "metadata": {},
   "outputs": [],
   "source": [
    "\n",
    "with h5py.File('groups.hdf5', 'r') as f:\n",
    "   d = f['Base_Group/default']\n",
    "   dd = f['Base_Group/Sub_Group/default']\n",
    "   print(d[:4])\n",
    "   print(dd[4:4])"
   ]
  },
  {
   "cell_type": "code",
   "execution_count": 10,
   "metadata": {},
   "outputs": [
    {
     "name": "stdout",
     "output_type": "stream",
     "text": [
      "['3 -5 6 1\\n', '2 4 -5 10\\n', '1 -3 6 -15']\n",
      "[[  3.  -5.   6.   1.   0.]\n",
      " [  2.   4.  -5.  10.   0.]\n",
      " [  1.  -3.   6. -15.   0.]]\n"
     ]
    }
   ],
   "source": [
    "import work_with_file as wwf\n",
    "import numpy as np \n",
    "values = wwf.values_from_file('array.txt')\n",
    "\n",
    "print(np.c_[values, np.zeros(values.shape[0])])"
   ]
  },
  {
   "cell_type": "code",
   "execution_count": null,
   "metadata": {},
   "outputs": [],
   "source": []
  }
 ],
 "metadata": {
  "kernelspec": {
   "display_name": ".venv",
   "language": "python",
   "name": "python3"
  },
  "language_info": {
   "codemirror_mode": {
    "name": "ipython",
    "version": 3
   },
   "file_extension": ".py",
   "mimetype": "text/x-python",
   "name": "python",
   "nbconvert_exporter": "python",
   "pygments_lexer": "ipython3",
   "version": "3.8.16"
  },
  "orig_nbformat": 4
 },
 "nbformat": 4,
 "nbformat_minor": 2
}
